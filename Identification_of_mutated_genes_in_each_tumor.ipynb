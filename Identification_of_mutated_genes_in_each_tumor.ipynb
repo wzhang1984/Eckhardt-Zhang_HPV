{
 "cells": [
  {
   "cell_type": "code",
   "execution_count": 422,
   "metadata": {
    "collapsed": true
   },
   "outputs": [],
   "source": [
    "import csv\n",
    "import pandas as pd\n",
    "from statsmodels.formula.api import ols\n",
    "from statsmodels.stats.anova import anova_lm\n",
    "from statsmodels.graphics.factorplots import interaction_plot\n",
    "import statsmodels.api as sm\n",
    "import statsmodels.formula.api as smf\n",
    "import matplotlib.pyplot as plt\n",
    "from scipy import stats\n",
    "import numpy as np\n",
    "%matplotlib inline  "
   ]
  },
  {
   "cell_type": "code",
   "execution_count": 423,
   "metadata": {
    "collapsed": true
   },
   "outputs": [],
   "source": [
    "barcode2hpv={}\n",
    "for line in open('../data/hpv_combo.txt').read().rstrip().split('\\n'):\n",
    "    row=line.split('\\t')\n",
    "    if row[1]=='True':\n",
    "        barcode2hpv[row[0]]='1'\n",
    "    elif row[1]=='False':\n",
    "        barcode2hpv[row[0]]='0'"
   ]
  },
  {
   "cell_type": "code",
   "execution_count": 424,
   "metadata": {
    "collapsed": true
   },
   "outputs": [],
   "source": [
    "id2barcode={}\n",
    "for line in open('../data/HNSCC_Chicago/tumor_normal_IDs.csv').read().rstrip().split('\\n'):\n",
    "    row=line.split('\\t')\n",
    "    id2barcode[row[0]]=row[1].split('\"')[1]"
   ]
  },
  {
   "cell_type": "code",
   "execution_count": 425,
   "metadata": {
    "collapsed": true
   },
   "outputs": [],
   "source": [
    "col={}\n",
    "with open('../data/HNSCC_Chicago/clin_no_name.txt', 'rb') as f:\n",
    "    reader = csv.reader(f)\n",
    "    for row in reader:\n",
    "        if row[0]=='':\n",
    "            for i in range(len(row)):\n",
    "                col[row[i]]=i\n",
    "            continue\n",
    "        Sample_ID=row[col['Sample.ID']]\n",
    "        HPV=row[col['HPV']]\n",
    "        if Sample_ID in id2barcode and HPV in ['pos','neg']:\n",
    "            if HPV=='pos':\n",
    "                barcode2hpv[id2barcode[Sample_ID]]='1'\n",
    "            elif HPV=='neg':\n",
    "                barcode2hpv[id2barcode[Sample_ID]]='0'"
   ]
  },
  {
   "cell_type": "code",
   "execution_count": 426,
   "metadata": {
    "collapsed": true
   },
   "outputs": [],
   "source": [
    "for line in open('../data/hpv_CESC.txt').read().rstrip().split('\\n'):\n",
    "    row=line.split('\\t')\n",
    "    if row[1]=='negative':\n",
    "        barcode2hpv[row[0]]='0'\n",
    "    else:\n",
    "        barcode2hpv[row[0]]='1'"
   ]
  },
  {
   "cell_type": "code",
   "execution_count": 427,
   "metadata": {
    "collapsed": true
   },
   "outputs": [],
   "source": [
    "DIR4NBS=\"/cellar/data/users/wzhang1984/forNBS/\"\n",
    "oncogene_tsg={}\n",
    "for line in open(DIR4NBS+\"oncogene_tsg.txt\").read().rstrip().split(\"\\n\"):\n",
    "    a=line.split(\"\\t\")\n",
    "    oncogene_tsg[a[0]]=a[1]"
   ]
  },
  {
   "cell_type": "code",
   "execution_count": 428,
   "metadata": {
    "collapsed": true
   },
   "outputs": [],
   "source": [
    "coding_genes=set()\n",
    "for line in open(\"/cellar/data/users/wzhang1984/bcbio/genomes/Hsapiens/GRCh37/rnaseq-2014-07-14/ref-transcripts.gtf\"):\n",
    "    a=line.split(\"\\t\")\n",
    "    if a[1]!=\"protein_coding\" or a[2]!=\"transcript\":\n",
    "        continue\n",
    "    gene_name=a[-1].split('gene_name \"')[1].split('\"')[0]\n",
    "    if gene_name:\n",
    "        coding_genes.add(gene_name)"
   ]
  },
  {
   "cell_type": "markdown",
   "metadata": {},
   "source": [
    "# Parse MAF"
   ]
  },
  {
   "cell_type": "code",
   "execution_count": 429,
   "metadata": {
    "collapsed": true
   },
   "outputs": [],
   "source": [
    "def parse_maf(fn, cohort):\n",
    "    \n",
    "    df = pd.read_table(fn, low_memory=False)\n",
    "    \n",
    "    df = df.loc[(df.loc[:,'is_flank']==0) & (df.loc[:,'is_silent']==0),:]\n",
    "    if cohort[:4] == 'TCGA':\n",
    "        df['pat'] = df.loc[:,'Tumor_Sample_Barcode'].str[:12]\n",
    "    elif cohort == 'Chicago':\n",
    "        df['pat'] = df.loc[:,'Tumor_Sample_Barcode'].str[:-2]\n",
    "        \n",
    "    filter_rows = []\n",
    "    genes = set()\n",
    "    for index, row in df.iterrows():\n",
    "        gene = row['Hugo_Symbol']\n",
    "        genes.add(gene)\n",
    "        VC = row['Variant_Classification']\n",
    "        if gene in oncogene_tsg:\n",
    "            if oncogene_tsg[gene] in ['Oncogene']:\n",
    "                if VC not in ['Missense_Mutation', 'In_Frame_Del', 'In_Frame_Ins', 'De_novo_Start_InFrame']:\n",
    "                    filter_rows.append(index)\n",
    "            if oncogene_tsg[gene]=='Amplification_Oncogene':\n",
    "                filter_rows.append(index)\n",
    "    df = df.drop(filter_rows)\n",
    "    \n",
    "    df = df.loc[:,['pat','Hugo_Symbol']]\n",
    "    \n",
    "    df['counter']=1\n",
    "    df.set_index(['pat','Hugo_Symbol'],inplace=True)\n",
    "    \n",
    "    df=df.counter.groupby(level=[0, 1]).min().unstack()\n",
    "    df.fillna(0,inplace=True)\n",
    "    \n",
    "    return df, genes"
   ]
  },
  {
   "cell_type": "code",
   "execution_count": 430,
   "metadata": {
    "collapsed": true
   },
   "outputs": [],
   "source": [
    "fn='/cellar/data/users/wzhang1984/Firehose/Firehose__2015_08_21/analyses/HNSC/Mutation_Assessor/HNSC-TP.maf.annotated'\n",
    "df, genes1 = parse_maf(fn, 'TCGA-HNSC')"
   ]
  },
  {
   "cell_type": "code",
   "execution_count": 431,
   "metadata": {
    "collapsed": true
   },
   "outputs": [],
   "source": [
    "fn='../data/HNSCC_Chicago/chicago_merge.final_analysis_set.maf'\n",
    "df2, genes2 = parse_maf(fn, 'Chicago')"
   ]
  },
  {
   "cell_type": "code",
   "execution_count": 433,
   "metadata": {
    "collapsed": true
   },
   "outputs": [],
   "source": [
    "fn='/cellar/data/users/wzhang1984/Firehose/Firehose__2015_08_21/analyses/CESC/Mutation_Assessor/CESC-TP.maf.annotated'\n",
    "df3, genes3 = parse_maf(fn, 'TCGA-CESC')"
   ]
  },
  {
   "cell_type": "code",
   "execution_count": 434,
   "metadata": {
    "collapsed": true
   },
   "outputs": [],
   "source": [
    "coding_genes = coding_genes | genes1| genes2 | genes3"
   ]
  },
  {
   "cell_type": "markdown",
   "metadata": {},
   "source": [
    "# Parse CNA"
   ]
  },
  {
   "cell_type": "code",
   "execution_count": 435,
   "metadata": {
    "collapsed": true
   },
   "outputs": [],
   "source": [
    "def parse_CNA(fn, cohort, genes):\n",
    "    df = pd.read_table(fn,low_memory=False,index_col=0)\n",
    "    \n",
    "    df = df[df.index.map(lambda x: x in genes)]\n",
    "    \n",
    "    if cohort[:4] == 'TCGA':\n",
    "        df = df.iloc[:,2:]\n",
    "        df = (df/2.).round(0)\n",
    "        df.columns = df.columns.str[:12]\n",
    "    elif cohort == 'Chicago':\n",
    "        df.columns = [id2barcode[i] for i in df.columns]\n",
    "    \n",
    "    nonOncogene_rows = []\n",
    "    for index, row in df.iterrows():\n",
    "        gene = index\n",
    "        if not (gene in oncogene_tsg and oncogene_tsg[gene] in ['Oncogene', 'Amplification_Oncogene']):\n",
    "            nonOncogene_rows.append(index)\n",
    "    df.loc[nonOncogene_rows,:] = df.loc[nonOncogene_rows,:]*(-1)\n",
    "    df = df.clip(lower=0)\n",
    "    return df"
   ]
  },
  {
   "cell_type": "code",
   "execution_count": 436,
   "metadata": {
    "collapsed": true
   },
   "outputs": [],
   "source": [
    "fn = '/cellar/data/users/wzhang1984/Firehose/Firehose__2015_08_21/analyses/HNSC/CopyNumber_Gistic2/all_thresholded.by_genes.txt'\n",
    "df4 = parse_CNA(fn, 'TCGA-HNSC', coding_genes)"
   ]
  },
  {
   "cell_type": "code",
   "execution_count": 437,
   "metadata": {
    "collapsed": true,
    "scrolled": true
   },
   "outputs": [],
   "source": [
    "fn = '../data/HNSCC_Chicago/CNA.table.20131119.txt'\n",
    "df5 = parse_CNA(fn, 'Chicago', coding_genes)"
   ]
  },
  {
   "cell_type": "code",
   "execution_count": 438,
   "metadata": {
    "collapsed": true,
    "scrolled": true
   },
   "outputs": [],
   "source": [
    "fn = '/cellar/data/users/wzhang1984/Firehose/Firehose__2015_08_21/analyses/CESC/CopyNumber_Gistic2/all_thresholded.by_genes.txt'\n",
    "df6 = parse_CNA(fn, 'TCGA-CESC', coding_genes)"
   ]
  },
  {
   "cell_type": "markdown",
   "metadata": {},
   "source": [
    "# Concatenate results"
   ]
  },
  {
   "cell_type": "code",
   "execution_count": 439,
   "metadata": {
    "collapsed": true
   },
   "outputs": [],
   "source": [
    "df = pd.concat([df,df4.transpose()], axis=1,\n",
    "               join='inner').transpose().groupby(level=0).sum().clip(upper=1.).transpose()\n",
    "df = df.loc[set(df.index) & set(df4.columns) & set(barcode2hpv.keys()),df4.index]"
   ]
  },
  {
   "cell_type": "code",
   "execution_count": 440,
   "metadata": {
    "collapsed": true,
    "scrolled": true
   },
   "outputs": [],
   "source": [
    "df2 = pd.concat([df2,df5.transpose()], axis=1,\n",
    "                join='inner').transpose().groupby(level=0).sum().clip(upper=1.).transpose()\n",
    "df2 = df2.loc[set(df2.index) & set(df5.columns) & set(barcode2hpv.keys()),df5.index]"
   ]
  },
  {
   "cell_type": "code",
   "execution_count": 441,
   "metadata": {
    "collapsed": true
   },
   "outputs": [],
   "source": [
    "df3 = pd.concat([df3,df6.transpose()], axis=1,\n",
    "                join='inner').transpose().groupby(level=0).sum().clip(upper=1.).transpose()\n",
    "df3 = df3.loc[set(df3.index) & set(df6.columns) & set(barcode2hpv.keys()),df6.index]"
   ]
  },
  {
   "cell_type": "code",
   "execution_count": 442,
   "metadata": {
    "collapsed": true
   },
   "outputs": [],
   "source": [
    "df = pd.concat([df,df2,df3])"
   ]
  },
  {
   "cell_type": "code",
   "execution_count": 443,
   "metadata": {
    "collapsed": true
   },
   "outputs": [],
   "source": [
    "disease=[]\n",
    "HPV=[]\n",
    "Chicago=[]\n",
    "for index, row in df.iterrows():\n",
    "    if barcode2hpv[index]=='0':\n",
    "        HPV.append(0)\n",
    "    else:\n",
    "        HPV.append(1)\n",
    "    if index in df3.index:\n",
    "        disease.append(0)\n",
    "    else:\n",
    "        disease.append(1)\n",
    "    if index in df2.index:\n",
    "        Chicago.append(1)\n",
    "    else:\n",
    "        Chicago.append(0)\n",
    "\n",
    "df['disease'] = disease\n",
    "df['Chicago'] = Chicago\n",
    "df['HPV'] = HPV"
   ]
  },
  {
   "cell_type": "code",
   "execution_count": 444,
   "metadata": {
    "collapsed": true,
    "scrolled": true
   },
   "outputs": [],
   "source": [
    "df.loc[:,['disease','Chicago','HPV']].to_csv('../data/network_fig3/forOncoprint/sample_order.txt',sep='\\t')"
   ]
  },
  {
   "cell_type": "markdown",
   "metadata": {},
   "source": [
    "# Logistic regression - Anova Chisq - R solution"
   ]
  },
  {
   "cell_type": "code",
   "execution_count": 380,
   "metadata": {
    "collapsed": true
   },
   "outputs": [],
   "source": [
    "# Write the input file for logistic regression in R code\n",
    "df.to_csv('../data/glmBinomial_anovaChisq/df4glm_HNSC_CESC.txt',sep='\\t')"
   ]
  },
  {
   "cell_type": "markdown",
   "metadata": {},
   "source": [
    "# For oncoprinter visualization"
   ]
  },
  {
   "cell_type": "code",
   "execution_count": 410,
   "metadata": {
    "collapsed": true
   },
   "outputs": [],
   "source": [
    "def parse_maf_oncoprinter(fn, cohort):\n",
    "    \n",
    "    df = pd.read_table(fn, low_memory=False)\n",
    "    \n",
    "    df = df.loc[(df.loc[:,'is_flank']==0) & (df.loc[:,'is_silent']==0),:]\n",
    "    if cohort[:4] == 'TCGA':\n",
    "        df['Sample'] = df.loc[:,'Tumor_Sample_Barcode'].str[:12]\n",
    "    elif cohort == 'Chicago':\n",
    "        df['Sample'] = df.loc[:,'Tumor_Sample_Barcode'].str[:-2]\n",
    "        \n",
    "    filter_rows = []\n",
    "    df['Type']=''\n",
    "    for index, row in df.iterrows():\n",
    "        gene = row['Hugo_Symbol']\n",
    "        VC = row['Variant_Classification']\n",
    "        if gene in oncogene_tsg and oncogene_tsg[gene]=='Amplification_Oncogene':\n",
    "            filter_rows.append(index)\n",
    "        if VC not in ['Missense_Mutation', 'In_Frame_Del', 'In_Frame_Ins', 'De_novo_Start_InFrame']:\n",
    "            if gene in oncogene_tsg and oncogene_tsg[gene]=='Oncogene':\n",
    "                filter_rows.append(index)\n",
    "            df.loc[index,'Type']='TRUNC'\n",
    "        else:\n",
    "            df.loc[index,'Type']='MISSENSE'\n",
    "    df = df.drop(filter_rows)\n",
    "    df['Cohort']=cohort\n",
    "    \n",
    "    df = df.loc[:,['Sample','Hugo_Symbol','Protein_Change','Type','Cohort']]\n",
    "    \n",
    "    return df"
   ]
  },
  {
   "cell_type": "code",
   "execution_count": 411,
   "metadata": {
    "collapsed": true
   },
   "outputs": [],
   "source": [
    "fn='/cellar/data/users/wzhang1984/Firehose/Firehose__2015_08_21/analyses/HNSC/Mutation_Assessor/HNSC-TP.maf.annotated'\n",
    "df_oncoprinter = parse_maf_oncoprinter(fn, 'TCGA-HNSC')"
   ]
  },
  {
   "cell_type": "code",
   "execution_count": 412,
   "metadata": {
    "collapsed": true
   },
   "outputs": [],
   "source": [
    "fn='../data/HNSCC_Chicago/chicago_merge.final_analysis_set.maf'\n",
    "df2_oncoprinter = parse_maf_oncoprinter(fn, 'Chicago')"
   ]
  },
  {
   "cell_type": "code",
   "execution_count": 413,
   "metadata": {
    "collapsed": true
   },
   "outputs": [],
   "source": [
    "fn='/cellar/data/users/wzhang1984/Firehose/Firehose__2015_08_21/analyses/CESC/Mutation_Assessor/CESC-TP.maf.annotated'\n",
    "df3_oncoprinter = parse_maf_oncoprinter(fn, 'TCGA-CESC')"
   ]
  },
  {
   "cell_type": "code",
   "execution_count": 414,
   "metadata": {
    "collapsed": true
   },
   "outputs": [],
   "source": [
    "df_oncoprinter.to_csv('../data/network_fig3/forOncoprinter.txt',sep='\\t',index=False,mode='w')\n",
    "df2_oncoprinter.to_csv('../data/network_fig3/forOncoprinter.txt',sep='\\t',index=False,mode='a',header=False)\n",
    "df3_oncoprinter.to_csv('../data/network_fig3/forOncoprinter.txt',sep='\\t',index=False,mode='a',header=False)"
   ]
  },
  {
   "cell_type": "code",
   "execution_count": 415,
   "metadata": {
    "collapsed": true
   },
   "outputs": [],
   "source": [
    "def parse_CNA_oncoprinter(fn, cohort):\n",
    "    df = pd.read_table(fn,low_memory=False,index_col=0)\n",
    "    if cohort[:4] == 'TCGA':\n",
    "        df = df.iloc[:,2:]\n",
    "        df = (df/2.).round(0)\n",
    "        df.columns = df.columns.str[:12]\n",
    "    elif cohort == 'Chicago':\n",
    "        df.columns = [id2barcode[i] for i in df.columns]\n",
    "    nonOncogene_rows = []\n",
    "    line_out='Sample\\tGene\\tAlteration\\tType\\tCohort\\n'\n",
    "    for index, row in df.iterrows():\n",
    "        gene = index\n",
    "        if not (gene in oncogene_tsg and oncogene_tsg[gene] in ['Oncogene', 'Amplification_Oncogene']):\n",
    "            nonOncogene_rows.append(index)\n",
    "    df.loc[nonOncogene_rows,:] = df.loc[nonOncogene_rows,:]*(-1)\n",
    "    df = df.clip(lower=0)\n",
    "    df.loc[nonOncogene_rows,:] = df.loc[nonOncogene_rows,:]*(-1)\n",
    "    df=pd.DataFrame(df.transpose().replace(0,np.nan).stack())\n",
    "    df.replace(1,'AMP',inplace=True)\n",
    "    df.replace(-1,'HOMDEL',inplace=True)\n",
    "    df.columns=['Alteration']\n",
    "    df['Type']='CNA'\n",
    "    df['Cohort']=cohort\n",
    "    return df  \n"
   ]
  },
  {
   "cell_type": "code",
   "execution_count": 416,
   "metadata": {
    "collapsed": true,
    "scrolled": true
   },
   "outputs": [],
   "source": [
    "fn = '/cellar/data/users/wzhang1984/Firehose/Firehose__2015_08_21/analyses/HNSC/CopyNumber_Gistic2/all_thresholded.by_genes.txt'\n",
    "df4_oncoprinter = parse_CNA_oncoprinter(fn, 'TCGA-HNSC')"
   ]
  },
  {
   "cell_type": "code",
   "execution_count": 418,
   "metadata": {
    "collapsed": true
   },
   "outputs": [],
   "source": [
    "fn = '../data/HNSCC_Chicago/CNA.table.20131119.txt'\n",
    "df5_oncoprinter = parse_CNA_oncoprinter(fn, 'Chicago')"
   ]
  },
  {
   "cell_type": "code",
   "execution_count": 419,
   "metadata": {
    "collapsed": true
   },
   "outputs": [],
   "source": [
    "fn = '/cellar/data/users/wzhang1984/Firehose/Firehose__2015_08_21/analyses/CESC/CopyNumber_Gistic2/all_thresholded.by_genes.txt'\n",
    "df6_oncoprinter = parse_CNA_oncoprinter(fn, 'TCGA-CESC')"
   ]
  },
  {
   "cell_type": "code",
   "execution_count": 420,
   "metadata": {
    "collapsed": true
   },
   "outputs": [],
   "source": [
    "df4_oncoprinter.to_csv('../data/network_fig3/forOncoprinter.txt',sep='\\t',mode='a',header=False)\n",
    "df5_oncoprinter.to_csv('../data/network_fig3/forOncoprinter.txt',sep='\\t',mode='a',header=False)\n",
    "df6_oncoprinter.to_csv('../data/network_fig3/forOncoprinter.txt',sep='\\t',mode='a',header=False)"
   ]
  },
  {
   "cell_type": "code",
   "execution_count": null,
   "metadata": {
    "collapsed": true
   },
   "outputs": [],
   "source": []
  },
  {
   "cell_type": "code",
   "execution_count": null,
   "metadata": {
    "collapsed": true
   },
   "outputs": [],
   "source": []
  },
  {
   "cell_type": "code",
   "execution_count": null,
   "metadata": {
    "collapsed": true
   },
   "outputs": [],
   "source": []
  },
  {
   "cell_type": "code",
   "execution_count": null,
   "metadata": {
    "collapsed": true
   },
   "outputs": [],
   "source": []
  },
  {
   "cell_type": "code",
   "execution_count": null,
   "metadata": {
    "collapsed": true
   },
   "outputs": [],
   "source": []
  }
 ],
 "metadata": {
  "kernelspec": {
   "display_name": "Python 2",
   "language": "python",
   "name": "python2"
  },
  "language_info": {
   "codemirror_mode": {
    "name": "ipython",
    "version": 2
   },
   "file_extension": ".py",
   "mimetype": "text/x-python",
   "name": "python",
   "nbconvert_exporter": "python",
   "pygments_lexer": "ipython2",
   "version": "2.7.13"
  }
 },
 "nbformat": 4,
 "nbformat_minor": 1
}
